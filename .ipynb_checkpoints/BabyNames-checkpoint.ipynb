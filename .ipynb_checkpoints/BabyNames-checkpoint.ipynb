{
 "cells": [
  {
   "cell_type": "code",
   "execution_count": 1,
   "metadata": {},
   "outputs": [],
   "source": [
    "import pandas as pd\n",
    "names = pd.read_csv('yob2017.txt', index_col=0,header=None)\n"
   ]
  },
  {
   "cell_type": "code",
   "execution_count": 2,
   "metadata": {},
   "outputs": [],
   "source": [
    "%matplotlib inline"
   ]
  },
  {
   "cell_type": "code",
   "execution_count": null,
   "metadata": {},
   "outputs": [],
   "source": []
  },
  {
   "cell_type": "markdown",
   "metadata": {},
   "source": []
  },
  {
   "cell_type": "code",
   "execution_count": 3,
   "metadata": {},
   "outputs": [
    {
     "name": "stdout",
     "output_type": "stream",
     "text": [
      "          Sex  NumberB\n",
      "0                     \n",
      "Emma        F    19738\n",
      "Olivia      F    18632\n",
      "Ava         F    15902\n",
      "Isabella    F    15100\n",
      "Sophia      F    14831\n",
      "Mia         F    13437\n",
      "Charlotte   F    12893\n",
      "Amelia      F    11800\n",
      "Evelyn      F    10675\n",
      "Abigail     F    10551\n",
      "Harper      F    10451\n",
      "Emily       F     9746\n",
      "Elizabeth   F     8915\n",
      "Avery       F     8186\n",
      "Sofia       F     8134\n",
      "Ella        F     8014\n",
      "Madison     F     7847\n",
      "Scarlett    F     7679\n",
      "Victoria    F     7267\n",
      "Aria        F     7132\n",
      "Grace       F     6991\n",
      "Chloe       F     6912\n",
      "Camila      F     6752\n",
      "Penelope    F     6639\n",
      "Riley       F     6343\n",
      "Layla       F     6274\n",
      "Lillian     F     6132\n",
      "Nora        F     6036\n",
      "Zoey        F     6026\n",
      "Mila        F     5941\n",
      "...        ..      ...\n",
      "Zayer       M        5\n",
      "Zayir       M        5\n",
      "Zechari     M        5\n",
      "Zecharia    M        5\n",
      "Zee         M        5\n",
      "Zeid        M        5\n",
      "Zennith     M        5\n",
      "Zeo         M        5\n",
      "Zerrick     M        5\n",
      "Zevon       M        5\n",
      "Zhen        M        5\n",
      "Zhiyuan     M        5\n",
      "Zhyir       M        5\n",
      "Zikora      M        5\n",
      "Zionn       M        5\n",
      "Ziyang      M        5\n",
      "Zkari       M        5\n",
      "Zohaan      M        5\n",
      "Zoren       M        5\n",
      "Zorion      M        5\n",
      "Zubeyr      M        5\n",
      "Zy          M        5\n",
      "Zyel        M        5\n",
      "Zyheem      M        5\n",
      "Zyhier      M        5\n",
      "Zykai       M        5\n",
      "Zykeem      M        5\n",
      "Zylin       M        5\n",
      "Zylis       M        5\n",
      "Zyrie       M        5\n",
      "\n",
      "[32469 rows x 2 columns]\n"
     ]
    }
   ],
   "source": [
    "names.columns=['Sex','NumberB']\n",
    "names.rename_axis('Name')\n",
    "print(names)\n"
   ]
  },
  {
   "cell_type": "code",
   "execution_count": 4,
   "metadata": {},
   "outputs": [
    {
     "data": {
      "text/html": [
       "<div>\n",
       "<style scoped>\n",
       "    .dataframe tbody tr th:only-of-type {\n",
       "        vertical-align: middle;\n",
       "    }\n",
       "\n",
       "    .dataframe tbody tr th {\n",
       "        vertical-align: top;\n",
       "    }\n",
       "\n",
       "    .dataframe thead th {\n",
       "        text-align: right;\n",
       "    }\n",
       "</style>\n",
       "<table border=\"1\" class=\"dataframe\">\n",
       "  <thead>\n",
       "    <tr style=\"text-align: right;\">\n",
       "      <th></th>\n",
       "      <th>Sex</th>\n",
       "      <th>NumberB</th>\n",
       "    </tr>\n",
       "    <tr>\n",
       "      <th>0</th>\n",
       "      <th></th>\n",
       "      <th></th>\n",
       "    </tr>\n",
       "  </thead>\n",
       "  <tbody>\n",
       "    <tr>\n",
       "      <th>Logan</th>\n",
       "      <td>M</td>\n",
       "      <td>13974</td>\n",
       "    </tr>\n",
       "    <tr>\n",
       "      <th>James</th>\n",
       "      <td>M</td>\n",
       "      <td>14232</td>\n",
       "    </tr>\n",
       "    <tr>\n",
       "      <th>Sophia</th>\n",
       "      <td>F</td>\n",
       "      <td>14831</td>\n",
       "    </tr>\n",
       "    <tr>\n",
       "      <th>William</th>\n",
       "      <td>M</td>\n",
       "      <td>14904</td>\n",
       "    </tr>\n",
       "    <tr>\n",
       "      <th>Isabella</th>\n",
       "      <td>F</td>\n",
       "      <td>15100</td>\n",
       "    </tr>\n",
       "    <tr>\n",
       "      <th>Ava</th>\n",
       "      <td>F</td>\n",
       "      <td>15902</td>\n",
       "    </tr>\n",
       "    <tr>\n",
       "      <th>Noah</th>\n",
       "      <td>M</td>\n",
       "      <td>18326</td>\n",
       "    </tr>\n",
       "    <tr>\n",
       "      <th>Olivia</th>\n",
       "      <td>F</td>\n",
       "      <td>18632</td>\n",
       "    </tr>\n",
       "    <tr>\n",
       "      <th>Liam</th>\n",
       "      <td>M</td>\n",
       "      <td>18728</td>\n",
       "    </tr>\n",
       "    <tr>\n",
       "      <th>Emma</th>\n",
       "      <td>F</td>\n",
       "      <td>19738</td>\n",
       "    </tr>\n",
       "  </tbody>\n",
       "</table>\n",
       "</div>"
      ],
      "text/plain": [
       "         Sex  NumberB\n",
       "0                    \n",
       "Logan      M    13974\n",
       "James      M    14232\n",
       "Sophia     F    14831\n",
       "William    M    14904\n",
       "Isabella   F    15100\n",
       "Ava        F    15902\n",
       "Noah       M    18326\n",
       "Olivia     F    18632\n",
       "Liam       M    18728\n",
       "Emma       F    19738"
      ]
     },
     "execution_count": 4,
     "metadata": {},
     "output_type": "execute_result"
    }
   ],
   "source": [
    "names.sort_values(by=['NumberB']).tail(10)"
   ]
  },
  {
   "cell_type": "markdown",
   "metadata": {},
   "source": [
    "Number of rows and columns"
   ]
  },
  {
   "cell_type": "code",
   "execution_count": 5,
   "metadata": {},
   "outputs": [
    {
     "data": {
      "text/plain": [
       "(32469, 2)"
      ]
     },
     "execution_count": 5,
     "metadata": {},
     "output_type": "execute_result"
    }
   ],
   "source": [
    "names.shape"
   ]
  },
  {
   "cell_type": "markdown",
   "metadata": {},
   "source": [
    "Calculate the total number of births in one year"
   ]
  },
  {
   "cell_type": "code",
   "execution_count": 6,
   "metadata": {},
   "outputs": [
    {
     "data": {
      "text/plain": [
       "NumberB    3546301\n",
       "dtype: int64"
      ]
     },
     "execution_count": 6,
     "metadata": {},
     "output_type": "execute_result"
    }
   ],
   "source": [
    "names[['NumberB']].sum()"
   ]
  },
  {
   "cell_type": "markdown",
   "metadata": {},
   "source": [
    "Calculate the top 10 percentages of all births"
   ]
  },
  {
   "cell_type": "code",
   "execution_count": 7,
   "metadata": {},
   "outputs": [
    {
     "data": {
      "text/html": [
       "<div>\n",
       "<style scoped>\n",
       "    .dataframe tbody tr th:only-of-type {\n",
       "        vertical-align: middle;\n",
       "    }\n",
       "\n",
       "    .dataframe tbody tr th {\n",
       "        vertical-align: top;\n",
       "    }\n",
       "\n",
       "    .dataframe thead th {\n",
       "        text-align: right;\n",
       "    }\n",
       "</style>\n",
       "<table border=\"1\" class=\"dataframe\">\n",
       "  <thead>\n",
       "    <tr style=\"text-align: right;\">\n",
       "      <th></th>\n",
       "      <th>Sex</th>\n",
       "      <th>NumberB</th>\n",
       "    </tr>\n",
       "    <tr>\n",
       "      <th>0</th>\n",
       "      <th></th>\n",
       "      <th></th>\n",
       "    </tr>\n",
       "  </thead>\n",
       "  <tbody>\n",
       "    <tr>\n",
       "      <th>Logan</th>\n",
       "      <td>M</td>\n",
       "      <td>13974</td>\n",
       "    </tr>\n",
       "    <tr>\n",
       "      <th>James</th>\n",
       "      <td>M</td>\n",
       "      <td>14232</td>\n",
       "    </tr>\n",
       "    <tr>\n",
       "      <th>Sophia</th>\n",
       "      <td>F</td>\n",
       "      <td>14831</td>\n",
       "    </tr>\n",
       "    <tr>\n",
       "      <th>William</th>\n",
       "      <td>M</td>\n",
       "      <td>14904</td>\n",
       "    </tr>\n",
       "    <tr>\n",
       "      <th>Isabella</th>\n",
       "      <td>F</td>\n",
       "      <td>15100</td>\n",
       "    </tr>\n",
       "    <tr>\n",
       "      <th>Ava</th>\n",
       "      <td>F</td>\n",
       "      <td>15902</td>\n",
       "    </tr>\n",
       "    <tr>\n",
       "      <th>Noah</th>\n",
       "      <td>M</td>\n",
       "      <td>18326</td>\n",
       "    </tr>\n",
       "    <tr>\n",
       "      <th>Olivia</th>\n",
       "      <td>F</td>\n",
       "      <td>18632</td>\n",
       "    </tr>\n",
       "    <tr>\n",
       "      <th>Liam</th>\n",
       "      <td>M</td>\n",
       "      <td>18728</td>\n",
       "    </tr>\n",
       "    <tr>\n",
       "      <th>Emma</th>\n",
       "      <td>F</td>\n",
       "      <td>19738</td>\n",
       "    </tr>\n",
       "  </tbody>\n",
       "</table>\n",
       "</div>"
      ],
      "text/plain": [
       "         Sex  NumberB\n",
       "0                    \n",
       "Logan      M    13974\n",
       "James      M    14232\n",
       "Sophia     F    14831\n",
       "William    M    14904\n",
       "Isabella   F    15100\n",
       "Ava        F    15902\n",
       "Noah       M    18326\n",
       "Olivia     F    18632\n",
       "Liam       M    18728\n",
       "Emma       F    19738"
      ]
     },
     "execution_count": 7,
     "metadata": {},
     "output_type": "execute_result"
    }
   ],
   "source": [
    "names.sort_values(by=['NumberB']).tail(10)"
   ]
  },
  {
   "cell_type": "markdown",
   "metadata": {},
   "source": [
    "Create a bar plot with 5 names from one year"
   ]
  },
  {
   "cell_type": "code",
   "execution_count": 8,
   "metadata": {},
   "outputs": [],
   "source": [
    "namesFive = names.sort_values(by=['NumberB']).tail(5)"
   ]
  },
  {
   "cell_type": "code",
   "execution_count": 9,
   "metadata": {},
   "outputs": [],
   "source": [
    "#namesFive.index"
   ]
  },
  {
   "cell_type": "code",
   "execution_count": 10,
   "metadata": {},
   "outputs": [],
   "source": [
    "#namesFive.plot.bar()"
   ]
  },
  {
   "cell_type": "code",
   "execution_count": 11,
   "metadata": {},
   "outputs": [],
   "source": [
    "namesFive.set_index(namesFive.index,drop=True,inplace=True)"
   ]
  },
  {
   "cell_type": "code",
   "execution_count": 13,
   "metadata": {},
   "outputs": [
    {
     "data": {
      "image/png": "[encoded data removed]",
      "text/plain": [
       "<Figure size 432x288 with 1 Axes>"
      ]
     },
     "metadata": {},
     "output_type": "display_data"
    }
   ],
   "source": [
    "plot =namesFive.plot.bar()\n",
    "fig = plot.get_figure()\n",
    "#matplotlib inline\n",
    "fig.savefig(\"top5.png\")"
   ]
  },
  {
   "cell_type": "markdown",
   "metadata": {},
   "source": [
    "Plot a time series with one name over all years"
   ]
  },
  {
   "cell_type": "code",
   "execution_count": 92,
   "metadata": {},
   "outputs": [],
   "source": [
    "import os\n",
    "#locating the data\n",
    "path = '/Users/julianchan/Desktop/names/NameData/'\n",
    "file_list = os.listdir(path)\n",
    "file_list\n",
    "#create empty data frame\n",
    "DataFrame = []\n",
    "for fi in file_list:\n",
    "    #if fi.endswith(\".txt\"):\n",
    "    full_path = path + fi\n",
    "    \n",
    "    ##load file as a DataFrame\n",
    "    colnames=['NAME','GENDER', 'NUMBER']\n",
    "    data_df = pd.read_csv(full_path, names = colnames)\n",
    "    data_df.set_index('NAME',inplace=True)\n",
    "    ##add a file_name column to data_df\n",
    "    data_df[\"YEAR\"] = int(fi[3:7])\n",
    "    \n",
    "    ##add file into list\n",
    "    DataFrame.append(data_df)\n",
    "    \n",
    "#Show the contents of DataFrame\n",
    "DataFrame\n",
    "#concatenate\n",
    "big_data_frame = pd.concat(DataFrame)\n",
    "\n",
    "\n"
   ]
  },
  {
   "cell_type": "code",
   "execution_count": 97,
   "metadata": {},
   "outputs": [
    {
     "data": {
      "text/html": [
       "<div>\n",
       "<style scoped>\n",
       "    .dataframe tbody tr th:only-of-type {\n",
       "        vertical-align: middle;\n",
       "    }\n",
       "\n",
       "    .dataframe tbody tr th {\n",
       "        vertical-align: top;\n",
       "    }\n",
       "\n",
       "    .dataframe thead th {\n",
       "        text-align: right;\n",
       "    }\n",
       "</style>\n",
       "<table border=\"1\" class=\"dataframe\">\n",
       "  <thead>\n",
       "    <tr style=\"text-align: right;\">\n",
       "      <th></th>\n",
       "      <th>GENDER</th>\n",
       "      <th>NUMBER</th>\n",
       "      <th>YEAR</th>\n",
       "    </tr>\n",
       "    <tr>\n",
       "      <th>NAME</th>\n",
       "      <th></th>\n",
       "      <th></th>\n",
       "      <th></th>\n",
       "    </tr>\n",
       "  </thead>\n",
       "  <tbody>\n",
       "    <tr>\n",
       "      <th>Emily</th>\n",
       "      <td>F</td>\n",
       "      <td>25953</td>\n",
       "      <td>2000</td>\n",
       "    </tr>\n",
       "    <tr>\n",
       "      <th>Hannah</th>\n",
       "      <td>F</td>\n",
       "      <td>23080</td>\n",
       "      <td>2000</td>\n",
       "    </tr>\n",
       "    <tr>\n",
       "      <th>Madison</th>\n",
       "      <td>F</td>\n",
       "      <td>19967</td>\n",
       "      <td>2000</td>\n",
       "    </tr>\n",
       "    <tr>\n",
       "      <th>Ashley</th>\n",
       "      <td>F</td>\n",
       "      <td>17997</td>\n",
       "      <td>2000</td>\n",
       "    </tr>\n",
       "    <tr>\n",
       "      <th>Sarah</th>\n",
       "      <td>F</td>\n",
       "      <td>17697</td>\n",
       "      <td>2000</td>\n",
       "    </tr>\n",
       "    <tr>\n",
       "      <th>Alexis</th>\n",
       "      <td>F</td>\n",
       "      <td>17629</td>\n",
       "      <td>2000</td>\n",
       "    </tr>\n",
       "    <tr>\n",
       "      <th>Samantha</th>\n",
       "      <td>F</td>\n",
       "      <td>17266</td>\n",
       "      <td>2000</td>\n",
       "    </tr>\n",
       "    <tr>\n",
       "      <th>Jessica</th>\n",
       "      <td>F</td>\n",
       "      <td>15709</td>\n",
       "      <td>2000</td>\n",
       "    </tr>\n",
       "    <tr>\n",
       "      <th>Elizabeth</th>\n",
       "      <td>F</td>\n",
       "      <td>15094</td>\n",
       "      <td>2000</td>\n",
       "    </tr>\n",
       "    <tr>\n",
       "      <th>Taylor</th>\n",
       "      <td>F</td>\n",
       "      <td>15078</td>\n",
       "      <td>2000</td>\n",
       "    </tr>\n",
       "  </tbody>\n",
       "</table>\n",
       "</div>"
      ],
      "text/plain": [
       "          GENDER  NUMBER  YEAR\n",
       "NAME                          \n",
       "Emily          F   25953  2000\n",
       "Hannah         F   23080  2000\n",
       "Madison        F   19967  2000\n",
       "Ashley         F   17997  2000\n",
       "Sarah          F   17697  2000\n",
       "Alexis         F   17629  2000\n",
       "Samantha       F   17266  2000\n",
       "Jessica        F   15709  2000\n",
       "Elizabeth      F   15094  2000\n",
       "Taylor         F   15078  2000"
      ]
     },
     "execution_count": 97,
     "metadata": {},
     "output_type": "execute_result"
    }
   ],
   "source": [
    "big_data_frame.head(10)"
   ]
  },
  {
   "cell_type": "code",
   "execution_count": 93,
   "metadata": {},
   "outputs": [
    {
     "data": {
      "text/html": [
       "<div>\n",
       "<style scoped>\n",
       "    .dataframe tbody tr th:only-of-type {\n",
       "        vertical-align: middle;\n",
       "    }\n",
       "\n",
       "    .dataframe tbody tr th {\n",
       "        vertical-align: top;\n",
       "    }\n",
       "\n",
       "    .dataframe thead th {\n",
       "        text-align: right;\n",
       "    }\n",
       "</style>\n",
       "<table border=\"1\" class=\"dataframe\">\n",
       "  <thead>\n",
       "    <tr style=\"text-align: right;\">\n",
       "      <th></th>\n",
       "      <th>GENDER</th>\n",
       "      <th>NUMBER</th>\n",
       "      <th>YEAR</th>\n",
       "    </tr>\n",
       "    <tr>\n",
       "      <th>NAME</th>\n",
       "      <th></th>\n",
       "      <th></th>\n",
       "      <th></th>\n",
       "    </tr>\n",
       "  </thead>\n",
       "  <tbody>\n",
       "    <tr>\n",
       "      <th>Julian</th>\n",
       "      <td>F</td>\n",
       "      <td>104</td>\n",
       "      <td>2000</td>\n",
       "    </tr>\n",
       "    <tr>\n",
       "      <th>Julian</th>\n",
       "      <td>M</td>\n",
       "      <td>4589</td>\n",
       "      <td>2000</td>\n",
       "    </tr>\n",
       "    <tr>\n",
       "      <th>Julian</th>\n",
       "      <td>F</td>\n",
       "      <td>31</td>\n",
       "      <td>2014</td>\n",
       "    </tr>\n",
       "    <tr>\n",
       "      <th>Julian</th>\n",
       "      <td>M</td>\n",
       "      <td>7665</td>\n",
       "      <td>2014</td>\n",
       "    </tr>\n",
       "    <tr>\n",
       "      <th>Julian</th>\n",
       "      <td>F</td>\n",
       "      <td>7</td>\n",
       "      <td>1938</td>\n",
       "    </tr>\n",
       "  </tbody>\n",
       "</table>\n",
       "</div>"
      ],
      "text/plain": [
       "       GENDER  NUMBER  YEAR\n",
       "NAME                       \n",
       "Julian      F     104  2000\n",
       "Julian      M    4589  2000\n",
       "Julian      F      31  2014\n",
       "Julian      M    7665  2014\n",
       "Julian      F       7  1938"
      ]
     },
     "execution_count": 93,
     "metadata": {},
     "output_type": "execute_result"
    }
   ],
   "source": [
    "big_data_frame.loc['Julian'].head(5)"
   ]
  },
  {
   "cell_type": "code",
   "execution_count": 94,
   "metadata": {},
   "outputs": [
    {
     "data": {
      "text/html": [
       "<div>\n",
       "<style scoped>\n",
       "    .dataframe tbody tr th:only-of-type {\n",
       "        vertical-align: middle;\n",
       "    }\n",
       "\n",
       "    .dataframe tbody tr th {\n",
       "        vertical-align: top;\n",
       "    }\n",
       "\n",
       "    .dataframe thead th {\n",
       "        text-align: right;\n",
       "    }\n",
       "</style>\n",
       "<table border=\"1\" class=\"dataframe\">\n",
       "  <thead>\n",
       "    <tr style=\"text-align: right;\">\n",
       "      <th></th>\n",
       "      <th>GENDER</th>\n",
       "      <th>NUMBER</th>\n",
       "      <th>YEAR</th>\n",
       "    </tr>\n",
       "    <tr>\n",
       "      <th>NAME</th>\n",
       "      <th></th>\n",
       "      <th></th>\n",
       "      <th></th>\n",
       "    </tr>\n",
       "  </thead>\n",
       "  <tbody>\n",
       "    <tr>\n",
       "      <th>Julian</th>\n",
       "      <td>M</td>\n",
       "      <td>4589</td>\n",
       "      <td>2000</td>\n",
       "    </tr>\n",
       "    <tr>\n",
       "      <th>Julian</th>\n",
       "      <td>M</td>\n",
       "      <td>7665</td>\n",
       "      <td>2014</td>\n",
       "    </tr>\n",
       "    <tr>\n",
       "      <th>Julian</th>\n",
       "      <td>M</td>\n",
       "      <td>425</td>\n",
       "      <td>1938</td>\n",
       "    </tr>\n",
       "    <tr>\n",
       "      <th>Julian</th>\n",
       "      <td>M</td>\n",
       "      <td>129</td>\n",
       "      <td>1910</td>\n",
       "    </tr>\n",
       "    <tr>\n",
       "      <th>Julian</th>\n",
       "      <td>M</td>\n",
       "      <td>65</td>\n",
       "      <td>1904</td>\n",
       "    </tr>\n",
       "  </tbody>\n",
       "</table>\n",
       "</div>"
      ],
      "text/plain": [
       "       GENDER  NUMBER  YEAR\n",
       "NAME                       \n",
       "Julian      M    4589  2000\n",
       "Julian      M    7665  2014\n",
       "Julian      M     425  1938\n",
       "Julian      M     129  1910\n",
       "Julian      M      65  1904"
      ]
     },
     "execution_count": 94,
     "metadata": {},
     "output_type": "execute_result"
    }
   ],
   "source": [
    "Julian = big_data_frame.loc['Julian']\n",
    "Male   = Julian[Julian['GENDER'] == 'M']\n",
    "#big_data_frame[(big_data_frame.loc['Julian']) & \n",
    "#               (big_data_frame[big_data_frame['GENDER']] == 'M')]\n",
    "\n",
    "Male.head(5)"
   ]
  },
  {
   "cell_type": "markdown",
   "metadata": {},
   "source": [
    "Plot a time series with one name over all years"
   ]
  },
  {
   "cell_type": "code",
   "execution_count": 95,
   "metadata": {},
   "outputs": [
    {
     "data": {
      "text/plain": [
       "<matplotlib.axes._subplots.AxesSubplot at 0x169887ef0>"
      ]
     },
     "execution_count": 95,
     "metadata": {},
     "output_type": "execute_result"
    },
    {
     "data": {
      "image/png": "[encoded data removed]",
      "text/plain": [
       "<Figure size 432x288 with 1 Axes>"
      ]
     },
     "metadata": {},
     "output_type": "display_data"
    }
   ],
   "source": [
    "Male.plot.scatter('NUMBER','YEAR')"
   ]
  },
  {
   "cell_type": "markdown",
   "metadata": {},
   "source": [
    "Plot the number of distinct boy/girl names over time"
   ]
  },
  {
   "cell_type": "code",
   "execution_count": 120,
   "metadata": {},
   "outputs": [],
   "source": [
    "info = big_data_frame[['YEAR','GENDER']]\n",
    "infoM = info[info['GENDER'] == 'M']\n",
    "infoF = info[info['GENDER'] == 'F']"
   ]
  },
  {
   "cell_type": "code",
   "execution_count": 119,
   "metadata": {},
   "outputs": [
    {
     "data": {
      "text/plain": [
       "2008    14613\n",
       "2009    14523\n",
       "2007    14390\n",
       "2011    14343\n",
       "2010    14256\n",
       "2012    14234\n",
       "2016    14162\n",
       "2017    14160\n",
       "2014    14047\n",
       "2013    14038\n",
       "2006    14032\n",
       "2015    14024\n",
       "2005    13364\n",
       "2004    13220\n",
       "2003    12753\n",
       "2002    12482\n",
       "2001    12299\n",
       "2000    12116\n",
       "1999    11609\n",
       "1998    11301\n",
       "1997    10811\n",
       "1996    10532\n",
       "1995    10327\n",
       "1994    10244\n",
       "1993    10169\n",
       "1992     9816\n",
       "1991     9646\n",
       "1990     9484\n",
       "1989     9227\n",
       "1988     8487\n",
       "        ...  \n",
       "1909     1679\n",
       "1908     1584\n",
       "1907     1549\n",
       "1900     1506\n",
       "1905     1421\n",
       "1906     1413\n",
       "1904     1395\n",
       "1902     1320\n",
       "1903     1306\n",
       "1898     1289\n",
       "1896     1266\n",
       "1892     1260\n",
       "1895     1241\n",
       "1894     1239\n",
       "1897     1229\n",
       "1901     1210\n",
       "1899     1200\n",
       "1893     1179\n",
       "1888     1177\n",
       "1890     1161\n",
       "1891     1127\n",
       "1884     1125\n",
       "1889     1111\n",
       "1886     1110\n",
       "1882     1099\n",
       "1885     1097\n",
       "1887     1067\n",
       "1880     1058\n",
       "1883     1030\n",
       "1881      997\n",
       "Name: YEAR, Length: 138, dtype: int64"
      ]
     },
     "execution_count": 119,
     "metadata": {},
     "output_type": "execute_result"
    }
   ],
   "source": [
    "infoM['YEAR'].value_counts()\n",
    "infoF['YEAR'].value_counts()"
   ]
  },
  {
   "cell_type": "markdown",
   "metadata": {},
   "source": [
    "plot the number of distinct boy/girl names over time"
   ]
  },
  {
   "cell_type": "code",
   "execution_count": 124,
   "metadata": {},
   "outputs": [
    {
     "data": {
      "text/plain": [
       "<matplotlib.axes._subplots.AxesSubplot at 0x112a76b38>"
      ]
     },
     "execution_count": 124,
     "metadata": {},
     "output_type": "execute_result"
    },
    {
     "data": {
      "image/png": "[encoded data removed]",
      "text/plain": [
       "<Figure size 432x288 with 1 Axes>"
      ]
     },
     "metadata": {},
     "output_type": "display_data"
    }
   ],
   "source": [
    "infoM['YEAR'].value_counts().plot()\n",
    "infoF['YEAR'].value_counts().plot()"
   ]
  },
  {
   "cell_type": "code",
   "execution_count": null,
   "metadata": {},
   "outputs": [],
   "source": []
  },
  {
   "cell_type": "code",
   "execution_count": 131,
   "metadata": {},
   "outputs": [],
   "source": [
    "X = Male['YEAR'].values.reshape(-1, 1)\n",
    "Y = Male['NUMBER'].values"
   ]
  },
  {
   "cell_type": "code",
   "execution_count": 132,
   "metadata": {},
   "outputs": [
    {
     "data": {
      "text/plain": [
       "((138, 1), (138,))"
      ]
     },
     "execution_count": 132,
     "metadata": {},
     "output_type": "execute_result"
    }
   ],
   "source": [
    "X.shape,Y.shape"
   ]
  },
  {
   "cell_type": "code",
   "execution_count": 142,
   "metadata": {},
   "outputs": [
    {
     "data": {
      "text/plain": [
       "-78725.34024066055"
      ]
     },
     "execution_count": 142,
     "metadata": {},
     "output_type": "execute_result"
    }
   ],
   "source": [
    "import numpy as np\n",
    "from sklearn.linear_model import LinearRegression\n",
    "reg = LinearRegression().fit(X,Y)\n",
    "reg.coef_\n",
    "reg.intercept_\n",
    "#reg.predict(X) #YOu may uncomment this to see the fitted values \n",
    "#Note the negative scores for some years! \n",
    "#This implies linear model is not a good model"
   ]
  },
  {
   "cell_type": "markdown",
   "metadata": {},
   "source": [
    "Normalize the data by the total number of births"
   ]
  },
  {
   "cell_type": "code",
   "execution_count": 167,
   "metadata": {},
   "outputs": [],
   "source": [
    "from sklearn.preprocessing import normalize\n",
    "#normalize(X)\n",
    "#Output looks weird\n",
    "import statistics \n",
    "y = (Y - np.mean(Y)) / (statistics.stdev(Y)) \n",
    "#This looks a lot better!"
   ]
  },
  {
   "cell_type": "markdown",
   "metadata": {},
   "source": [
    "Improve the fit using a polynomial regression"
   ]
  },
  {
   "cell_type": "code",
   "execution_count": 151,
   "metadata": {},
   "outputs": [
    {
     "data": {
      "text/plain": [
       "array([ 0.00000000e+00, -3.23692890e+03,  8.41182435e-01])"
      ]
     },
     "execution_count": 151,
     "metadata": {},
     "output_type": "execute_result"
    }
   ],
   "source": [
    "from sklearn.preprocessing import PolynomialFeatures\n",
    "lin_regressor = LinearRegression()\n",
    "poly = PolynomialFeatures(2)\n",
    "X_transform = poly.fit_transform(X)\n",
    "poly = lin_regressor.fit(X_transform,Y)\n",
    "poly.coef_"
   ]
  },
  {
   "cell_type": "code",
   "execution_count": 152,
   "metadata": {},
   "outputs": [
    {
     "data": {
      "text/plain": [
       "3113616.956431702"
      ]
     },
     "execution_count": 152,
     "metadata": {},
     "output_type": "execute_result"
    }
   ],
   "source": [
    "poly.intercept_"
   ]
  },
  {
   "cell_type": "code",
   "execution_count": null,
   "metadata": {},
   "outputs": [],
   "source": []
  },
  {
   "cell_type": "markdown",
   "metadata": {},
   "source": [
    "Notes from class"
   ]
  },
  {
   "cell_type": "code",
   "execution_count": null,
   "metadata": {},
   "outputs": [],
   "source": [
    "#df['count'][.loc['Nicholas','Paul','Helena','Tom']]\n",
    "#df[df['count'] > 1000].head(3)\n",
    "#freq_boys = df[(df['count']>1000) & (df[df['gender']] ) ]\n",
    "#b = df[df['gender']] != 'F'\n",
    "#df.isna()\n",
    "#df.dropna()\n"
   ]
  },
  {
   "cell_type": "code",
   "execution_count": null,
   "metadata": {},
   "outputs": [],
   "source": []
  },
  {
   "cell_type": "code",
   "execution_count": null,
   "metadata": {},
   "outputs": [],
   "source": []
  },
  {
   "cell_type": "code",
   "execution_count": null,
   "metadata": {},
   "outputs": [],
   "source": []
  }
 ],
 "metadata": {
  "kernelspec": {
   "display_name": "Python 3",
   "language": "python",
   "name": "python3"
  },
  "language_info": {
   "codemirror_mode": {
    "name": "ipython",
    "version": 3
   },
   "file_extension": ".py",
   "mimetype": "text/x-python",
   "name": "python",
   "nbconvert_exporter": "python",
   "pygments_lexer": "ipython3",
   "version": "3.6.5"
  }
 },
 "nbformat": 4,
 "nbformat_minor": 2
}
