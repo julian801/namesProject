{
 "cells": [
  {
   "cell_type": "code",
   "execution_count": 4,
   "metadata": {},
   "outputs": [],
   "source": [
    "import pandas as pd\n",
    "names = pd.read_csv('NameData/yob2017.txt', index_col=0,header=None)\n"
   ]
  },
  {
   "cell_type": "code",
   "execution_count": 5,
   "metadata": {},
   "outputs": [],
   "source": [
    "%matplotlib inline"
   ]
  },
  {
   "cell_type": "code",
   "execution_count": null,
   "metadata": {},
   "outputs": [],
   "source": []
  },
  {
   "cell_type": "markdown",
   "metadata": {},
   "source": []
  },
  {
   "cell_type": "code",
   "execution_count": 6,
   "metadata": {},
   "outputs": [
    {
     "name": "stdout",
     "output_type": "stream",
     "text": [
      "          Sex  NumberB\n",
      "0                     \n",
      "Emma        F    19738\n",
      "Olivia      F    18632\n",
      "Ava         F    15902\n",
      "Isabella    F    15100\n",
      "Sophia      F    14831\n",
      "Mia         F    13437\n",
      "Charlotte   F    12893\n",
      "Amelia      F    11800\n",
      "Evelyn      F    10675\n",
      "Abigail     F    10551\n",
      "Harper      F    10451\n",
      "Emily       F     9746\n",
      "Elizabeth   F     8915\n",
      "Avery       F     8186\n",
      "Sofia       F     8134\n",
      "Ella        F     8014\n",
      "Madison     F     7847\n",
      "Scarlett    F     7679\n",
      "Victoria    F     7267\n",
      "Aria        F     7132\n",
      "Grace       F     6991\n",
      "Chloe       F     6912\n",
      "Camila      F     6752\n",
      "Penelope    F     6639\n",
      "Riley       F     6343\n",
      "Layla       F     6274\n",
      "Lillian     F     6132\n",
      "Nora        F     6036\n",
      "Zoey        F     6026\n",
      "Mila        F     5941\n",
      "...        ..      ...\n",
      "Zayer       M        5\n",
      "Zayir       M        5\n",
      "Zechari     M        5\n",
      "Zecharia    M        5\n",
      "Zee         M        5\n",
      "Zeid        M        5\n",
      "Zennith     M        5\n",
      "Zeo         M        5\n",
      "Zerrick     M        5\n",
      "Zevon       M        5\n",
      "Zhen        M        5\n",
      "Zhiyuan     M        5\n",
      "Zhyir       M        5\n",
      "Zikora      M        5\n",
      "Zionn       M        5\n",
      "Ziyang      M        5\n",
      "Zkari       M        5\n",
      "Zohaan      M        5\n",
      "Zoren       M        5\n",
      "Zorion      M        5\n",
      "Zubeyr      M        5\n",
      "Zy          M        5\n",
      "Zyel        M        5\n",
      "Zyheem      M        5\n",
      "Zyhier      M        5\n",
      "Zykai       M        5\n",
      "Zykeem      M        5\n",
      "Zylin       M        5\n",
      "Zylis       M        5\n",
      "Zyrie       M        5\n",
      "\n",
      "[32469 rows x 2 columns]\n"
     ]
    }
   ],
   "source": [
    "names.columns=['Sex','NumberB']\n",
    "names.rename_axis('Name')\n",
    "print(names)\n"
   ]
  },
  {
   "cell_type": "code",
   "execution_count": 7,
   "metadata": {},
   "outputs": [
    {
     "data": {
      "text/html": [
       "<div>\n",
       "<style scoped>\n",
       "    .dataframe tbody tr th:only-of-type {\n",
       "        vertical-align: middle;\n",
       "    }\n",
       "\n",
       "    .dataframe tbody tr th {\n",
       "        vertical-align: top;\n",
       "    }\n",
       "\n",
       "    .dataframe thead th {\n",
       "        text-align: right;\n",
       "    }\n",
       "</style>\n",
       "<table border=\"1\" class=\"dataframe\">\n",
       "  <thead>\n",
       "    <tr style=\"text-align: right;\">\n",
       "      <th></th>\n",
       "      <th>Sex</th>\n",
       "      <th>NumberB</th>\n",
       "    </tr>\n",
       "    <tr>\n",
       "      <th>0</th>\n",
       "      <th></th>\n",
       "      <th></th>\n",
       "    </tr>\n",
       "  </thead>\n",
       "  <tbody>\n",
       "    <tr>\n",
       "      <th>Logan</th>\n",
       "      <td>M</td>\n",
       "      <td>13974</td>\n",
       "    </tr>\n",
       "    <tr>\n",
       "      <th>James</th>\n",
       "      <td>M</td>\n",
       "      <td>14232</td>\n",
       "    </tr>\n",
       "    <tr>\n",
       "      <th>Sophia</th>\n",
       "      <td>F</td>\n",
       "      <td>14831</td>\n",
       "    </tr>\n",
       "    <tr>\n",
       "      <th>William</th>\n",
       "      <td>M</td>\n",
       "      <td>14904</td>\n",
       "    </tr>\n",
       "    <tr>\n",
       "      <th>Isabella</th>\n",
       "      <td>F</td>\n",
       "      <td>15100</td>\n",
       "    </tr>\n",
       "    <tr>\n",
       "      <th>Ava</th>\n",
       "      <td>F</td>\n",
       "      <td>15902</td>\n",
       "    </tr>\n",
       "    <tr>\n",
       "      <th>Noah</th>\n",
       "      <td>M</td>\n",
       "      <td>18326</td>\n",
       "    </tr>\n",
       "    <tr>\n",
       "      <th>Olivia</th>\n",
       "      <td>F</td>\n",
       "      <td>18632</td>\n",
       "    </tr>\n",
       "    <tr>\n",
       "      <th>Liam</th>\n",
       "      <td>M</td>\n",
       "      <td>18728</td>\n",
       "    </tr>\n",
       "    <tr>\n",
       "      <th>Emma</th>\n",
       "      <td>F</td>\n",
       "      <td>19738</td>\n",
       "    </tr>\n",
       "  </tbody>\n",
       "</table>\n",
       "</div>"
      ],
      "text/plain": [
       "         Sex  NumberB\n",
       "0                    \n",
       "Logan      M    13974\n",
       "James      M    14232\n",
       "Sophia     F    14831\n",
       "William    M    14904\n",
       "Isabella   F    15100\n",
       "Ava        F    15902\n",
       "Noah       M    18326\n",
       "Olivia     F    18632\n",
       "Liam       M    18728\n",
       "Emma       F    19738"
      ]
     },
     "execution_count": 7,
     "metadata": {},
     "output_type": "execute_result"
    }
   ],
   "source": [
    "names.sort_values(by=['NumberB']).tail(10)"
   ]
  },
  {
   "cell_type": "markdown",
   "metadata": {},
   "source": [
    "Number of rows and columns"
   ]
  },
  {
   "cell_type": "code",
   "execution_count": 8,
   "metadata": {},
   "outputs": [
    {
     "data": {
      "text/plain": [
       "(32469, 2)"
      ]
     },
     "execution_count": 8,
     "metadata": {},
     "output_type": "execute_result"
    }
   ],
   "source": [
    "names.shape"
   ]
  },
  {
   "cell_type": "markdown",
   "metadata": {},
   "source": [
    "Calculate the total number of births in one year"
   ]
  },
  {
   "cell_type": "code",
   "execution_count": 9,
   "metadata": {},
   "outputs": [
    {
     "data": {
      "text/plain": [
       "NumberB    3546301\n",
       "dtype: int64"
      ]
     },
     "execution_count": 9,
     "metadata": {},
     "output_type": "execute_result"
    }
   ],
   "source": [
    "names[['NumberB']].sum()"
   ]
  },
  {
   "cell_type": "markdown",
   "metadata": {},
   "source": [
    "Calculate the top 10 percentages of all births"
   ]
  },
  {
   "cell_type": "code",
   "execution_count": 10,
   "metadata": {},
   "outputs": [
    {
     "data": {
      "text/html": [
       "<div>\n",
       "<style scoped>\n",
       "    .dataframe tbody tr th:only-of-type {\n",
       "        vertical-align: middle;\n",
       "    }\n",
       "\n",
       "    .dataframe tbody tr th {\n",
       "        vertical-align: top;\n",
       "    }\n",
       "\n",
       "    .dataframe thead th {\n",
       "        text-align: right;\n",
       "    }\n",
       "</style>\n",
       "<table border=\"1\" class=\"dataframe\">\n",
       "  <thead>\n",
       "    <tr style=\"text-align: right;\">\n",
       "      <th></th>\n",
       "      <th>Sex</th>\n",
       "      <th>NumberB</th>\n",
       "    </tr>\n",
       "    <tr>\n",
       "      <th>0</th>\n",
       "      <th></th>\n",
       "      <th></th>\n",
       "    </tr>\n",
       "  </thead>\n",
       "  <tbody>\n",
       "    <tr>\n",
       "      <th>Logan</th>\n",
       "      <td>M</td>\n",
       "      <td>13974</td>\n",
       "    </tr>\n",
       "    <tr>\n",
       "      <th>James</th>\n",
       "      <td>M</td>\n",
       "      <td>14232</td>\n",
       "    </tr>\n",
       "    <tr>\n",
       "      <th>Sophia</th>\n",
       "      <td>F</td>\n",
       "      <td>14831</td>\n",
       "    </tr>\n",
       "    <tr>\n",
       "      <th>William</th>\n",
       "      <td>M</td>\n",
       "      <td>14904</td>\n",
       "    </tr>\n",
       "    <tr>\n",
       "      <th>Isabella</th>\n",
       "      <td>F</td>\n",
       "      <td>15100</td>\n",
       "    </tr>\n",
       "    <tr>\n",
       "      <th>Ava</th>\n",
       "      <td>F</td>\n",
       "      <td>15902</td>\n",
       "    </tr>\n",
       "    <tr>\n",
       "      <th>Noah</th>\n",
       "      <td>M</td>\n",
       "      <td>18326</td>\n",
       "    </tr>\n",
       "    <tr>\n",
       "      <th>Olivia</th>\n",
       "      <td>F</td>\n",
       "      <td>18632</td>\n",
       "    </tr>\n",
       "    <tr>\n",
       "      <th>Liam</th>\n",
       "      <td>M</td>\n",
       "      <td>18728</td>\n",
       "    </tr>\n",
       "    <tr>\n",
       "      <th>Emma</th>\n",
       "      <td>F</td>\n",
       "      <td>19738</td>\n",
       "    </tr>\n",
       "  </tbody>\n",
       "</table>\n",
       "</div>"
      ],
      "text/plain": [
       "         Sex  NumberB\n",
       "0                    \n",
       "Logan      M    13974\n",
       "James      M    14232\n",
       "Sophia     F    14831\n",
       "William    M    14904\n",
       "Isabella   F    15100\n",
       "Ava        F    15902\n",
       "Noah       M    18326\n",
       "Olivia     F    18632\n",
       "Liam       M    18728\n",
       "Emma       F    19738"
      ]
     },
     "execution_count": 10,
     "metadata": {},
     "output_type": "execute_result"
    }
   ],
   "source": [
    "names.sort_values(by=['NumberB']).tail(10)"
   ]
  },
  {
   "cell_type": "markdown",
   "metadata": {},
   "source": [
    "Create a bar plot with 5 names from one year"
   ]
  },
  {
   "cell_type": "code",
   "execution_count": 11,
   "metadata": {},
   "outputs": [],
   "source": [
    "namesFive = names.sort_values(by=['NumberB']).tail(5)"
   ]
  },
  {
   "cell_type": "code",
   "execution_count": 12,
   "metadata": {},
   "outputs": [],
   "source": [
    "#namesFive.index"
   ]
  },
  {
   "cell_type": "code",
   "execution_count": 13,
   "metadata": {},
   "outputs": [],
   "source": [
    "#namesFive.plot.bar()"
   ]
  },
  {
   "cell_type": "code",
   "execution_count": 14,
   "metadata": {},
   "outputs": [],
   "source": [
    "namesFive.set_index(namesFive.index,drop=True,inplace=True)"
   ]
  },
  {
   "cell_type": "code",
   "execution_count": 15,
   "metadata": {},
   "outputs": [
    {
     "data": {
      "image/png": "[encoded data removed]",
      "text/plain": [
       "<Figure size 432x288 with 1 Axes>"
      ]
     },
     "metadata": {},
     "output_type": "display_data"
    }
   ],
   "source": [
    "plot =namesFive.plot.bar()\n",
    "fig = plot.get_figure()\n",
    "#matplotlib inline\n",
    "fig.savefig(\"top5.png\")"
   ]
  },
  {
   "cell_type": "markdown",
   "metadata": {},
   "source": [
    "Plot a time series with one name over all years"
   ]
  },
  {
   "cell_type": "code",
   "execution_count": 16,
   "metadata": {},
   "outputs": [],
   "source": [
    "import os\n",
    "#locating the data\n",
    "path = '/Users/julianchan/Desktop/names/NameData/'\n",
    "file_list = os.listdir(path)\n",
    "file_list\n",
    "#create empty data frame\n",
    "DataFrame = []\n",
    "for fi in file_list:\n",
    "    #if fi.endswith(\".txt\"):\n",
    "    full_path = path + fi\n",
    "    \n",
    "    ##load file as a DataFrame\n",
    "    colnames=['NAME','GENDER', 'NUMBER']\n",
    "    data_df = pd.read_csv(full_path, names = colnames)\n",
    "    data_df.set_index('NAME',inplace=True)\n",
    "    ##add a file_name column to data_df\n",
    "    data_df[\"YEAR\"] = int(fi[3:7])\n",
    "    \n",
    "    ##add file into list\n",
    "    DataFrame.append(data_df)\n",
    "    \n",
    "#Show the contents of DataFrame\n",
    "DataFrame\n",
    "#concatenate\n",
    "big_data_frame = pd.concat(DataFrame)\n",
    "\n",
    "\n"
   ]
  },
  {
   "cell_type": "code",
   "execution_count": 17,
   "metadata": {},
   "outputs": [
    {
     "data": {
      "text/html": [
       "<div>\n",
       "<style scoped>\n",
       "    .dataframe tbody tr th:only-of-type {\n",
       "        vertical-align: middle;\n",
       "    }\n",
       "\n",
       "    .dataframe tbody tr th {\n",
       "        vertical-align: top;\n",
       "    }\n",
       "\n",
       "    .dataframe thead th {\n",
       "        text-align: right;\n",
       "    }\n",
       "</style>\n",
       "<table border=\"1\" class=\"dataframe\">\n",
       "  <thead>\n",
       "    <tr style=\"text-align: right;\">\n",
       "      <th></th>\n",
       "      <th>GENDER</th>\n",
       "      <th>NUMBER</th>\n",
       "      <th>YEAR</th>\n",
       "    </tr>\n",
       "    <tr>\n",
       "      <th>NAME</th>\n",
       "      <th></th>\n",
       "      <th></th>\n",
       "      <th></th>\n",
       "    </tr>\n",
       "  </thead>\n",
       "  <tbody>\n",
       "    <tr>\n",
       "      <th>Emily</th>\n",
       "      <td>F</td>\n",
       "      <td>25953</td>\n",
       "      <td>2000</td>\n",
       "    </tr>\n",
       "    <tr>\n",
       "      <th>Hannah</th>\n",
       "      <td>F</td>\n",
       "      <td>23080</td>\n",
       "      <td>2000</td>\n",
       "    </tr>\n",
       "    <tr>\n",
       "      <th>Madison</th>\n",
       "      <td>F</td>\n",
       "      <td>19967</td>\n",
       "      <td>2000</td>\n",
       "    </tr>\n",
       "    <tr>\n",
       "      <th>Ashley</th>\n",
       "      <td>F</td>\n",
       "      <td>17997</td>\n",
       "      <td>2000</td>\n",
       "    </tr>\n",
       "    <tr>\n",
       "      <th>Sarah</th>\n",
       "      <td>F</td>\n",
       "      <td>17697</td>\n",
       "      <td>2000</td>\n",
       "    </tr>\n",
       "    <tr>\n",
       "      <th>Alexis</th>\n",
       "      <td>F</td>\n",
       "      <td>17629</td>\n",
       "      <td>2000</td>\n",
       "    </tr>\n",
       "    <tr>\n",
       "      <th>Samantha</th>\n",
       "      <td>F</td>\n",
       "      <td>17266</td>\n",
       "      <td>2000</td>\n",
       "    </tr>\n",
       "    <tr>\n",
       "      <th>Jessica</th>\n",
       "      <td>F</td>\n",
       "      <td>15709</td>\n",
       "      <td>2000</td>\n",
       "    </tr>\n",
       "    <tr>\n",
       "      <th>Elizabeth</th>\n",
       "      <td>F</td>\n",
       "      <td>15094</td>\n",
       "      <td>2000</td>\n",
       "    </tr>\n",
       "    <tr>\n",
       "      <th>Taylor</th>\n",
       "      <td>F</td>\n",
       "      <td>15078</td>\n",
       "      <td>2000</td>\n",
       "    </tr>\n",
       "  </tbody>\n",
       "</table>\n",
       "</div>"
      ],
      "text/plain": [
       "          GENDER  NUMBER  YEAR\n",
       "NAME                          \n",
       "Emily          F   25953  2000\n",
       "Hannah         F   23080  2000\n",
       "Madison        F   19967  2000\n",
       "Ashley         F   17997  2000\n",
       "Sarah          F   17697  2000\n",
       "Alexis         F   17629  2000\n",
       "Samantha       F   17266  2000\n",
       "Jessica        F   15709  2000\n",
       "Elizabeth      F   15094  2000\n",
       "Taylor         F   15078  2000"
      ]
     },
     "execution_count": 17,
     "metadata": {},
     "output_type": "execute_result"
    }
   ],
   "source": [
    "big_data_frame.head(10)"
   ]
  },
  {
   "cell_type": "code",
   "execution_count": 18,
   "metadata": {},
   "outputs": [
    {
     "data": {
      "text/html": [
       "<div>\n",
       "<style scoped>\n",
       "    .dataframe tbody tr th:only-of-type {\n",
       "        vertical-align: middle;\n",
       "    }\n",
       "\n",
       "    .dataframe tbody tr th {\n",
       "        vertical-align: top;\n",
       "    }\n",
       "\n",
       "    .dataframe thead th {\n",
       "        text-align: right;\n",
       "    }\n",
       "</style>\n",
       "<table border=\"1\" class=\"dataframe\">\n",
       "  <thead>\n",
       "    <tr style=\"text-align: right;\">\n",
       "      <th></th>\n",
       "      <th>GENDER</th>\n",
       "      <th>NUMBER</th>\n",
       "      <th>YEAR</th>\n",
       "    </tr>\n",
       "    <tr>\n",
       "      <th>NAME</th>\n",
       "      <th></th>\n",
       "      <th></th>\n",
       "      <th></th>\n",
       "    </tr>\n",
       "  </thead>\n",
       "  <tbody>\n",
       "    <tr>\n",
       "      <th>Julian</th>\n",
       "      <td>F</td>\n",
       "      <td>104</td>\n",
       "      <td>2000</td>\n",
       "    </tr>\n",
       "    <tr>\n",
       "      <th>Julian</th>\n",
       "      <td>M</td>\n",
       "      <td>4589</td>\n",
       "      <td>2000</td>\n",
       "    </tr>\n",
       "    <tr>\n",
       "      <th>Julian</th>\n",
       "      <td>F</td>\n",
       "      <td>31</td>\n",
       "      <td>2014</td>\n",
       "    </tr>\n",
       "    <tr>\n",
       "      <th>Julian</th>\n",
       "      <td>M</td>\n",
       "      <td>7665</td>\n",
       "      <td>2014</td>\n",
       "    </tr>\n",
       "    <tr>\n",
       "      <th>Julian</th>\n",
       "      <td>F</td>\n",
       "      <td>7</td>\n",
       "      <td>1938</td>\n",
       "    </tr>\n",
       "  </tbody>\n",
       "</table>\n",
       "</div>"
      ],
      "text/plain": [
       "       GENDER  NUMBER  YEAR\n",
       "NAME                       \n",
       "Julian      F     104  2000\n",
       "Julian      M    4589  2000\n",
       "Julian      F      31  2014\n",
       "Julian      M    7665  2014\n",
       "Julian      F       7  1938"
      ]
     },
     "execution_count": 18,
     "metadata": {},
     "output_type": "execute_result"
    }
   ],
   "source": [
    "big_data_frame.loc['Julian'].head(5)"
   ]
  },
  {
   "cell_type": "code",
   "execution_count": 19,
   "metadata": {},
   "outputs": [
    {
     "data": {
      "text/html": [
       "<div>\n",
       "<style scoped>\n",
       "    .dataframe tbody tr th:only-of-type {\n",
       "        vertical-align: middle;\n",
       "    }\n",
       "\n",
       "    .dataframe tbody tr th {\n",
       "        vertical-align: top;\n",
       "    }\n",
       "\n",
       "    .dataframe thead th {\n",
       "        text-align: right;\n",
       "    }\n",
       "</style>\n",
       "<table border=\"1\" class=\"dataframe\">\n",
       "  <thead>\n",
       "    <tr style=\"text-align: right;\">\n",
       "      <th></th>\n",
       "      <th>GENDER</th>\n",
       "      <th>NUMBER</th>\n",
       "      <th>YEAR</th>\n",
       "    </tr>\n",
       "    <tr>\n",
       "      <th>NAME</th>\n",
       "      <th></th>\n",
       "      <th></th>\n",
       "      <th></th>\n",
       "    </tr>\n",
       "  </thead>\n",
       "  <tbody>\n",
       "    <tr>\n",
       "      <th>Julian</th>\n",
       "      <td>M</td>\n",
       "      <td>4589</td>\n",
       "      <td>2000</td>\n",
       "    </tr>\n",
       "    <tr>\n",
       "      <th>Julian</th>\n",
       "      <td>M</td>\n",
       "      <td>7665</td>\n",
       "      <td>2014</td>\n",
       "    </tr>\n",
       "    <tr>\n",
       "      <th>Julian</th>\n",
       "      <td>M</td>\n",
       "      <td>425</td>\n",
       "      <td>1938</td>\n",
       "    </tr>\n",
       "    <tr>\n",
       "      <th>Julian</th>\n",
       "      <td>M</td>\n",
       "      <td>129</td>\n",
       "      <td>1910</td>\n",
       "    </tr>\n",
       "    <tr>\n",
       "      <th>Julian</th>\n",
       "      <td>M</td>\n",
       "      <td>65</td>\n",
       "      <td>1904</td>\n",
       "    </tr>\n",
       "  </tbody>\n",
       "</table>\n",
       "</div>"
      ],
      "text/plain": [
       "       GENDER  NUMBER  YEAR\n",
       "NAME                       \n",
       "Julian      M    4589  2000\n",
       "Julian      M    7665  2014\n",
       "Julian      M     425  1938\n",
       "Julian      M     129  1910\n",
       "Julian      M      65  1904"
      ]
     },
     "execution_count": 19,
     "metadata": {},
     "output_type": "execute_result"
    }
   ],
   "source": [
    "Julian = big_data_frame.loc['Julian']\n",
    "Male   = Julian[Julian['GENDER'] == 'M']\n",
    "#big_data_frame[(big_data_frame.loc['Julian']) & \n",
    "#               (big_data_frame[big_data_frame['GENDER']] == 'M')]\n",
    "\n",
    "Male.head(5)"
   ]
  },
  {
   "cell_type": "markdown",
   "metadata": {},
   "source": [
    "Plot a time series with one name over all years"
   ]
  },
  {
   "cell_type": "code",
   "execution_count": 20,
   "metadata": {},
   "outputs": [
    {
     "data": {
      "text/plain": [
       "<matplotlib.axes._subplots.AxesSubplot at 0x106fc6908>"
      ]
     },
     "execution_count": 20,
     "metadata": {},
     "output_type": "execute_result"
    },
    {
     "data": {
      "image/png": "[encoded data removed]",
      "text/plain": [
       "<Figure size 432x288 with 1 Axes>"
      ]
     },
     "metadata": {},
     "output_type": "display_data"
    }
   ],
   "source": [
    "Male.plot.scatter('NUMBER','YEAR')"
   ]
  },
  {
   "cell_type": "markdown",
   "metadata": {},
   "source": [
    "Plot the number of distinct boy/girl names over time"
   ]
  },
  {
   "cell_type": "code",
   "execution_count": 21,
   "metadata": {},
   "outputs": [],
   "source": [
    "info = big_data_frame[['YEAR','GENDER']]\n",
    "infoM = info[info['GENDER'] == 'M']\n",
    "infoF = info[info['GENDER'] == 'F']"
   ]
  },
  {
   "cell_type": "code",
   "execution_count": 22,
   "metadata": {},
   "outputs": [
    {
     "data": {
      "text/plain": [
       "2007    20560\n",
       "2008    20457\n",
       "2009    20179\n",
       "2006    20050\n",
       "2010    19811\n",
       "2011    19560\n",
       "2012    19498\n",
       "2013    19231\n",
       "2005    19182\n",
       "2014    19181\n",
       "2015    19074\n",
       "2004    18826\n",
       "2016    18817\n",
       "2003    18430\n",
       "2017    18309\n",
       "2002    18081\n",
       "2001    17970\n",
       "2000    17653\n",
       "1999    16941\n",
       "1998    16598\n",
       "1997    16160\n",
       "1996    15891\n",
       "1993    15797\n",
       "1995    15753\n",
       "1994    15751\n",
       "1992    15611\n",
       "1991    15459\n",
       "1990    15235\n",
       "1989    14546\n",
       "1988    13877\n",
       "        ...  \n",
       "1909     2548\n",
       "1908     2434\n",
       "1907     2399\n",
       "1905     2234\n",
       "1900     2224\n",
       "1906     2220\n",
       "1904     2165\n",
       "1903     2083\n",
       "1902     2042\n",
       "1898     1975\n",
       "1901     1943\n",
       "1899     1842\n",
       "1896     1825\n",
       "1895     1808\n",
       "1897     1799\n",
       "1894     1702\n",
       "1892     1661\n",
       "1893     1652\n",
       "1890     1534\n",
       "1891     1533\n",
       "1889     1479\n",
       "1888     1474\n",
       "1887     1306\n",
       "1886     1282\n",
       "1885     1197\n",
       "1884     1172\n",
       "1883     1054\n",
       "1882     1028\n",
       "1880      942\n",
       "1881      938\n",
       "Name: YEAR, Length: 138, dtype: int64"
      ]
     },
     "execution_count": 22,
     "metadata": {},
     "output_type": "execute_result"
    }
   ],
   "source": [
    "infoM['YEAR'].value_counts()\n",
    "infoF['YEAR'].value_counts()"
   ]
  },
  {
   "cell_type": "markdown",
   "metadata": {},
   "source": [
    "plot the number of distinct boy/girl names over time"
   ]
  },
  {
   "cell_type": "code",
   "execution_count": 23,
   "metadata": {},
   "outputs": [
    {
     "data": {
      "text/plain": [
       "<matplotlib.axes._subplots.AxesSubplot at 0x113a4d518>"
      ]
     },
     "execution_count": 23,
     "metadata": {},
     "output_type": "execute_result"
    },
    {
     "data": {
      "image/png": "[encoded data removed]",
      "text/plain": [
       "<Figure size 432x288 with 1 Axes>"
      ]
     },
     "metadata": {},
     "output_type": "display_data"
    }
   ],
   "source": [
    "infoM['YEAR'].value_counts().plot()\n",
    "infoF['YEAR'].value_counts().plot()"
   ]
  },
  {
   "cell_type": "code",
   "execution_count": null,
   "metadata": {},
   "outputs": [],
   "source": []
  },
  {
   "cell_type": "code",
   "execution_count": 24,
   "metadata": {},
   "outputs": [],
   "source": [
    "X = Male['YEAR'].values.reshape(-1, 1)\n",
    "Y = Male['NUMBER'].values"
   ]
  },
  {
   "cell_type": "code",
   "execution_count": 25,
   "metadata": {},
   "outputs": [
    {
     "data": {
      "text/plain": [
       "((138, 1), (138,))"
      ]
     },
     "execution_count": 25,
     "metadata": {},
     "output_type": "execute_result"
    }
   ],
   "source": [
    "X.shape,Y.shape"
   ]
  },
  {
   "cell_type": "code",
   "execution_count": 69,
   "metadata": {},
   "outputs": [],
   "source": [
    "import numpy as np\n",
    "from sklearn.linear_model import LinearRegression\n",
    "reg = LinearRegression().fit(X,Y)\n",
    "reg.coef_\n",
    "reg.intercept_\n",
    "w = reg.predict(X) #YOu may uncomment this to see the fitted values \n",
    "#Note the negative scores for some years! \n",
    "#This implies linear model is not a good model"
   ]
  },
  {
   "cell_type": "code",
   "execution_count": null,
   "metadata": {},
   "outputs": [],
   "source": []
  },
  {
   "cell_type": "code",
   "execution_count": 72,
   "metadata": {},
   "outputs": [
    {
     "data": {
      "image/png": "[encoded data removed]",
      "text/plain": [
       "<Figure size 432x288 with 1 Axes>"
      ]
     },
     "metadata": {},
     "output_type": "display_data"
    }
   ],
   "source": [
    "from matplotlib import pyplot as plt\n",
    "plt.figure()\n",
    "plt.plot(X, Y, 'bo')\n",
    "plt.plot(X, w, 'rx')\n",
    "plt.show()"
   ]
  },
  {
   "cell_type": "markdown",
   "metadata": {},
   "source": [
    "Normalize the data by the total number of births"
   ]
  },
  {
   "cell_type": "code",
   "execution_count": 35,
   "metadata": {},
   "outputs": [
    {
     "data": {
      "text/plain": [
       "array([[0.14650774, 0.24471166, 0.01356849, 0.00411844, 0.00207518,\n",
       "        0.00249022, 0.00485273, 0.01459011, 0.25655616, 0.15777757,\n",
       "        0.26795368, 0.17268694, 0.00293718, 0.01149331, 0.00220288,\n",
       "        0.00143666, 0.0093862 , 0.00325644, 0.16674873, 0.26705976,\n",
       "        0.23542124, 0.21684039, 0.0019794 , 0.01998558, 0.00156437,\n",
       "        0.00150052, 0.02081566, 0.00188363, 0.21632958, 0.23973123,\n",
       "        0.19513081, 0.2431473 , 0.01848507, 0.00210711, 0.01890011,\n",
       "        0.02024099, 0.00252214, 0.01433471, 0.24187026, 0.18101959,\n",
       "        0.02292276, 0.01436663, 0.09746963, 0.10267354, 0.01443049,\n",
       "        0.01992173, 0.01468589, 0.01625026, 0.02033677, 0.02056025,\n",
       "        0.01471782, 0.01471782, 0.01676107, 0.02381669, 0.01701648,\n",
       "        0.01701648, 0.0207518 , 0.01570752, 0.02343358, 0.01522863,\n",
       "        0.07058806, 0.05338003, 0.015069  , 0.02381669, 0.0166653 ,\n",
       "        0.01672915, 0.08588054, 0.04875078, 0.02994645, 0.08613595,\n",
       "        0.01762307, 0.01656952, 0.02119877, 0.01478167, 0.01570752,\n",
       "        0.04926159, 0.08121937, 0.07936767, 0.0475376 , 0.01615448,\n",
       "        0.01455819, 0.02043255, 0.01631411, 0.0158033 , 0.01510093,\n",
       "        0.02972297, 0.09290423, 0.09114831, 0.03170237, 0.01669722,\n",
       "        0.01500515, 0.01599485, 0.01459011, 0.01768692, 0.07987848,\n",
       "        0.02400824, 0.02774357, 0.08623173, 0.0169207 , 0.01433471,\n",
       "        0.2356128 , 0.02190114, 0.01602678, 0.02285891, 0.00159629,\n",
       "        0.00166014, 0.00217096, 0.00127703, 0.0232101 , 0.01883625,\n",
       "        0.02311432, 0.23803916, 0.02244387, 0.0179104 , 0.00137281,\n",
       "        0.00156437, 0.00153244, 0.00201133, 0.01446241, 0.01982595,\n",
       "        0.02151802, 0.01433471, 0.00169207, 0.00102163, 0.00114933,\n",
       "        0.00175592, 0.01430278, 0.02467868, 0.01513285, 0.02212462,\n",
       "        0.00280948, 0.00153244, 0.00169207, 0.00181977, 0.00130896,\n",
       "        0.00325644, 0.02442328, 0.01586715]])"
      ]
     },
     "execution_count": 35,
     "metadata": {},
     "output_type": "execute_result"
    }
   ],
   "source": [
    "from sklearn.preprocessing import normalize\n",
    "normalize(Y.reshape(1,-1))\n",
    "#Output looks weird\n",
    "#import statistics \n",
    "#y = (Y - np.mean(Y)) / (statistics.stdev(Y)) \n",
    "#This looks a lot better!"
   ]
  },
  {
   "cell_type": "code",
   "execution_count": 60,
   "metadata": {},
   "outputs": [
    {
     "data": {
      "text/plain": [
       "2008    14613\n",
       "2009    14523\n",
       "2007    14390\n",
       "Name: YEAR, dtype: int64"
      ]
     },
     "execution_count": 60,
     "metadata": {},
     "output_type": "execute_result"
    }
   ],
   "source": [
    "#infoM.head(3)\n",
    "infoM['YEAR'].value_counts().head(3)\n"
   ]
  },
  {
   "cell_type": "code",
   "execution_count": null,
   "metadata": {},
   "outputs": [],
   "source": []
  },
  {
   "cell_type": "code",
   "execution_count": 67,
   "metadata": {},
   "outputs": [
    {
     "data": {
      "text/plain": [
       "NAME\n",
       "Jacob      2000\n",
       "Michael    2000\n",
       "Matthew    2000\n",
       "Name: YEAR, dtype: int64"
      ]
     },
     "execution_count": 67,
     "metadata": {},
     "output_type": "execute_result"
    }
   ],
   "source": [
    "infoM['YEAR'].head(3)"
   ]
  },
  {
   "cell_type": "markdown",
   "metadata": {},
   "source": [
    "Improve the fit using a polynomial regression"
   ]
  },
  {
   "cell_type": "code",
   "execution_count": 47,
   "metadata": {},
   "outputs": [
    {
     "data": {
      "text/plain": [
       "LinearRegression(copy_X=True, fit_intercept=True, n_jobs=1, normalize=False)"
      ]
     },
     "execution_count": 47,
     "metadata": {},
     "output_type": "execute_result"
    }
   ],
   "source": [
    "from sklearn.preprocessing import PolynomialFeatures\n",
    "lin_regressor = LinearRegression()\n",
    "poly = PolynomialFeatures(2)\n",
    "X_transform = poly.fit_transform(X)\n",
    "poly = lin_regressor.fit(X_transform,Y)\n",
    "poly.coef_\n"
   ]
  },
  {
   "cell_type": "code",
   "execution_count": 64,
   "metadata": {},
   "outputs": [],
   "source": [
    "z=poly.predict(X_transform)"
   ]
  },
  {
   "cell_type": "code",
   "execution_count": 66,
   "metadata": {},
   "outputs": [
    {
     "data": {
      "image/png": "[encoded data removed]",
      "text/plain": [
       "<Figure size 432x288 with 1 Axes>"
      ]
     },
     "metadata": {},
     "output_type": "display_data"
    }
   ],
   "source": [
    "from matplotlib import pyplot as plt\n",
    "plt.figure()\n",
    "plt.plot(X, Y, 'bo')\n",
    "plt.plot(X, z, 'rx')\n",
    "plt.show()"
   ]
  },
  {
   "cell_type": "code",
   "execution_count": null,
   "metadata": {},
   "outputs": [],
   "source": []
  },
  {
   "cell_type": "code",
   "execution_count": null,
   "metadata": {},
   "outputs": [],
   "source": []
  },
  {
   "cell_type": "markdown",
   "metadata": {},
   "source": [
    "Notes from class"
   ]
  },
  {
   "cell_type": "code",
   "execution_count": 30,
   "metadata": {},
   "outputs": [],
   "source": [
    "#df['count'][.loc['Nicholas','Paul','Helena','Tom']]\n",
    "#df[df['count'] > 1000].head(3)\n",
    "#freq_boys = df[(df['count']>1000) & (df[df['gender']] ) ]\n",
    "#b = df[df['gender']] != 'F'\n",
    "#df.isna()\n",
    "#df.dropna()\n"
   ]
  },
  {
   "cell_type": "code",
   "execution_count": null,
   "metadata": {},
   "outputs": [],
   "source": []
  },
  {
   "cell_type": "code",
   "execution_count": null,
   "metadata": {},
   "outputs": [],
   "source": []
  },
  {
   "cell_type": "code",
   "execution_count": null,
   "metadata": {},
   "outputs": [],
   "source": []
  }
 ],
 "metadata": {
  "kernelspec": {
   "display_name": "Python 3",
   "language": "python",
   "name": "python3"
  },
  "language_info": {
   "codemirror_mode": {
    "name": "ipython",
    "version": 3
   },
   "file_extension": ".py",
   "mimetype": "text/x-python",
   "name": "python",
   "nbconvert_exporter": "python",
   "pygments_lexer": "ipython3",
   "version": "3.6.5"
  }
 },
 "nbformat": 4,
 "nbformat_minor": 2
}
